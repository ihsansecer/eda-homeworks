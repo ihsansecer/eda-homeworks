{
 "cells": [
  {
   "cell_type": "code",
   "execution_count": 1,
   "metadata": {},
   "outputs": [],
   "source": [
    "import sys\n",
    "sys.path.append('..')"
   ]
  },
  {
   "cell_type": "code",
   "execution_count": 2,
   "metadata": {},
   "outputs": [],
   "source": [
    "from __future__ import print_function\n",
    "import os\n",
    "\n",
    "import numpy as np\n",
    "import matplotlib.pyplot as plt\n",
    "\n",
    "from utils import nsfg, thinkstats2, thinkplot"
   ]
  },
  {
   "cell_type": "code",
   "execution_count": 3,
   "metadata": {},
   "outputs": [],
   "source": [
    "data_dir = os.getcwd() + \"/../data/\"\n",
    "resp = nsfg.ReadFemResp(dct_file=data_dir + \"2002FemResp.dct\", dat_file=data_dir + \"2002FemResp.dat.gz\")"
   ]
  },
  {
   "cell_type": "code",
   "execution_count": 4,
   "metadata": {},
   "outputs": [
    {
     "data": {
      "text/html": [
       "<div>\n",
       "<style scoped>\n",
       "    .dataframe tbody tr th:only-of-type {\n",
       "        vertical-align: middle;\n",
       "    }\n",
       "\n",
       "    .dataframe tbody tr th {\n",
       "        vertical-align: top;\n",
       "    }\n",
       "\n",
       "    .dataframe thead th {\n",
       "        text-align: right;\n",
       "    }\n",
       "</style>\n",
       "<table border=\"1\" class=\"dataframe\">\n",
       "  <thead>\n",
       "    <tr style=\"text-align: right;\">\n",
       "      <th></th>\n",
       "      <th>caseid</th>\n",
       "      <th>rscrinf</th>\n",
       "      <th>rdormres</th>\n",
       "      <th>rostscrn</th>\n",
       "      <th>rscreenhisp</th>\n",
       "      <th>rscreenrace</th>\n",
       "      <th>age_a</th>\n",
       "      <th>age_r</th>\n",
       "      <th>cmbirth</th>\n",
       "      <th>agescrn</th>\n",
       "      <th>...</th>\n",
       "      <th>pubassis_i</th>\n",
       "      <th>basewgt</th>\n",
       "      <th>adj_mod_basewgt</th>\n",
       "      <th>finalwgt</th>\n",
       "      <th>secu_r</th>\n",
       "      <th>sest</th>\n",
       "      <th>cmintvw</th>\n",
       "      <th>cmlstyr</th>\n",
       "      <th>screentime</th>\n",
       "      <th>intvlngth</th>\n",
       "    </tr>\n",
       "  </thead>\n",
       "  <tbody>\n",
       "    <tr>\n",
       "      <th>0</th>\n",
       "      <td>2298</td>\n",
       "      <td>1</td>\n",
       "      <td>5</td>\n",
       "      <td>5</td>\n",
       "      <td>1</td>\n",
       "      <td>5.0</td>\n",
       "      <td>27</td>\n",
       "      <td>27</td>\n",
       "      <td>902</td>\n",
       "      <td>27</td>\n",
       "      <td>...</td>\n",
       "      <td>0</td>\n",
       "      <td>3247.916977</td>\n",
       "      <td>5123.759559</td>\n",
       "      <td>5556.717241</td>\n",
       "      <td>2</td>\n",
       "      <td>18</td>\n",
       "      <td>1234</td>\n",
       "      <td>1222</td>\n",
       "      <td>18:26:36</td>\n",
       "      <td>110.492667</td>\n",
       "    </tr>\n",
       "    <tr>\n",
       "      <th>1</th>\n",
       "      <td>5012</td>\n",
       "      <td>1</td>\n",
       "      <td>5</td>\n",
       "      <td>1</td>\n",
       "      <td>5</td>\n",
       "      <td>5.0</td>\n",
       "      <td>42</td>\n",
       "      <td>42</td>\n",
       "      <td>718</td>\n",
       "      <td>42</td>\n",
       "      <td>...</td>\n",
       "      <td>0</td>\n",
       "      <td>2335.279149</td>\n",
       "      <td>2846.799490</td>\n",
       "      <td>4744.191350</td>\n",
       "      <td>2</td>\n",
       "      <td>18</td>\n",
       "      <td>1233</td>\n",
       "      <td>1221</td>\n",
       "      <td>16:30:59</td>\n",
       "      <td>64.294000</td>\n",
       "    </tr>\n",
       "    <tr>\n",
       "      <th>2</th>\n",
       "      <td>11586</td>\n",
       "      <td>1</td>\n",
       "      <td>5</td>\n",
       "      <td>1</td>\n",
       "      <td>5</td>\n",
       "      <td>5.0</td>\n",
       "      <td>43</td>\n",
       "      <td>43</td>\n",
       "      <td>708</td>\n",
       "      <td>43</td>\n",
       "      <td>...</td>\n",
       "      <td>0</td>\n",
       "      <td>2335.279149</td>\n",
       "      <td>2846.799490</td>\n",
       "      <td>4744.191350</td>\n",
       "      <td>2</td>\n",
       "      <td>18</td>\n",
       "      <td>1234</td>\n",
       "      <td>1222</td>\n",
       "      <td>18:19:09</td>\n",
       "      <td>75.149167</td>\n",
       "    </tr>\n",
       "    <tr>\n",
       "      <th>3</th>\n",
       "      <td>6794</td>\n",
       "      <td>5</td>\n",
       "      <td>5</td>\n",
       "      <td>4</td>\n",
       "      <td>1</td>\n",
       "      <td>5.0</td>\n",
       "      <td>15</td>\n",
       "      <td>15</td>\n",
       "      <td>1042</td>\n",
       "      <td>15</td>\n",
       "      <td>...</td>\n",
       "      <td>0</td>\n",
       "      <td>3783.152221</td>\n",
       "      <td>5071.464231</td>\n",
       "      <td>5923.977368</td>\n",
       "      <td>2</td>\n",
       "      <td>18</td>\n",
       "      <td>1234</td>\n",
       "      <td>1222</td>\n",
       "      <td>15:54:43</td>\n",
       "      <td>28.642833</td>\n",
       "    </tr>\n",
       "    <tr>\n",
       "      <th>4</th>\n",
       "      <td>616</td>\n",
       "      <td>1</td>\n",
       "      <td>5</td>\n",
       "      <td>4</td>\n",
       "      <td>1</td>\n",
       "      <td>5.0</td>\n",
       "      <td>20</td>\n",
       "      <td>20</td>\n",
       "      <td>991</td>\n",
       "      <td>20</td>\n",
       "      <td>...</td>\n",
       "      <td>0</td>\n",
       "      <td>5341.329968</td>\n",
       "      <td>6437.335772</td>\n",
       "      <td>7229.128072</td>\n",
       "      <td>2</td>\n",
       "      <td>18</td>\n",
       "      <td>1233</td>\n",
       "      <td>1221</td>\n",
       "      <td>14:19:44</td>\n",
       "      <td>69.502667</td>\n",
       "    </tr>\n",
       "  </tbody>\n",
       "</table>\n",
       "<p>5 rows × 3087 columns</p>\n",
       "</div>"
      ],
      "text/plain": [
       "   caseid  rscrinf  rdormres  rostscrn  rscreenhisp  rscreenrace  age_a  \\\n",
       "0    2298        1         5         5            1          5.0     27   \n",
       "1    5012        1         5         1            5          5.0     42   \n",
       "2   11586        1         5         1            5          5.0     43   \n",
       "3    6794        5         5         4            1          5.0     15   \n",
       "4     616        1         5         4            1          5.0     20   \n",
       "\n",
       "   age_r  cmbirth  agescrn     ...      pubassis_i      basewgt  \\\n",
       "0     27      902       27     ...               0  3247.916977   \n",
       "1     42      718       42     ...               0  2335.279149   \n",
       "2     43      708       43     ...               0  2335.279149   \n",
       "3     15     1042       15     ...               0  3783.152221   \n",
       "4     20      991       20     ...               0  5341.329968   \n",
       "\n",
       "   adj_mod_basewgt     finalwgt  secu_r  sest  cmintvw  cmlstyr  screentime  \\\n",
       "0      5123.759559  5556.717241       2    18     1234     1222    18:26:36   \n",
       "1      2846.799490  4744.191350       2    18     1233     1221    16:30:59   \n",
       "2      2846.799490  4744.191350       2    18     1234     1222    18:19:09   \n",
       "3      5071.464231  5923.977368       2    18     1234     1222    15:54:43   \n",
       "4      6437.335772  7229.128072       2    18     1233     1221    14:19:44   \n",
       "\n",
       "    intvlngth  \n",
       "0  110.492667  \n",
       "1   64.294000  \n",
       "2   75.149167  \n",
       "3   28.642833  \n",
       "4   69.502667  \n",
       "\n",
       "[5 rows x 3087 columns]"
      ]
     },
     "execution_count": 4,
     "metadata": {},
     "output_type": "execute_result"
    }
   ],
   "source": [
    "resp.head()"
   ]
  },
  {
   "cell_type": "markdown",
   "metadata": {},
   "source": [
    "## Question 1"
   ]
  },
  {
   "cell_type": "code",
   "execution_count": 5,
   "metadata": {},
   "outputs": [
    {
     "data": {
      "text/plain": [
       "array([ 6, 10,  9,  5, 12, 11,  8, 13, 14,  7, 15])"
      ]
     },
     "execution_count": 5,
     "metadata": {},
     "output_type": "execute_result"
    }
   ],
   "source": [
    "resp[\"hieduc\"].unique()"
   ]
  },
  {
   "cell_type": "code",
   "execution_count": 6,
   "metadata": {},
   "outputs": [],
   "source": [
    "school = resp.loc[resp[\"hieduc\"] < 11]\n",
    "university = resp.loc[resp[\"hieduc\"] > 10]"
   ]
  },
  {
   "cell_type": "code",
   "execution_count": 7,
   "metadata": {},
   "outputs": [
    {
     "name": "stdout",
     "output_type": "stream",
     "text": [
      "[ 6 10  9  5  8  7]\n",
      "[12 11 13 14 15]\n"
     ]
    }
   ],
   "source": [
    "print(school[\"hieduc\"].unique())\n",
    "print(university[\"hieduc\"].unique())"
   ]
  },
  {
   "cell_type": "markdown",
   "metadata": {},
   "source": [
    "The descriptive statistics given below are meaningless since \"agemomb1\" is a encoded as a categorical variable. To interpret \"agemomb\" see [link](https://www.icpsr.umich.edu/icpsradmin/nsfg/variable/619576?studyNumber=9998&vg=7371)."
   ]
  },
  {
   "cell_type": "code",
   "execution_count": 8,
   "metadata": {},
   "outputs": [
    {
     "data": {
      "text/plain": [
       "count    5498.000000\n",
       "mean        3.827210\n",
       "std        10.677571\n",
       "min         1.000000\n",
       "25%         2.000000\n",
       "50%         3.000000\n",
       "75%         3.000000\n",
       "max        96.000000\n",
       "Name: agemomb1, dtype: float64"
      ]
     },
     "execution_count": 8,
     "metadata": {},
     "output_type": "execute_result"
    }
   ],
   "source": [
    "school[\"agemomb1\"].describe()"
   ]
  },
  {
   "cell_type": "code",
   "execution_count": 9,
   "metadata": {},
   "outputs": [
    {
     "data": {
      "text/plain": [
       "count    2145.000000\n",
       "mean        4.379021\n",
       "std        11.142874\n",
       "min         1.000000\n",
       "25%         3.000000\n",
       "50%         3.000000\n",
       "75%         4.000000\n",
       "max        96.000000\n",
       "Name: agemomb1, dtype: float64"
      ]
     },
     "execution_count": 9,
     "metadata": {},
     "output_type": "execute_result"
    }
   ],
   "source": [
    "university[\"agemomb1\"].describe()"
   ]
  },
  {
   "cell_type": "markdown",
   "metadata": {},
   "source": [
    "A descriptive statistics for categorical variables could be value counts"
   ]
  },
  {
   "cell_type": "code",
   "execution_count": 10,
   "metadata": {},
   "outputs": [
    {
     "data": {
      "text/plain": [
       "3     2044\n",
       "2     1189\n",
       "1     1152\n",
       "4      737\n",
       "5      304\n",
       "96      72\n",
       "Name: agemomb1, dtype: int64"
      ]
     },
     "execution_count": 10,
     "metadata": {},
     "output_type": "execute_result"
    }
   ],
   "source": [
    "school[\"agemomb1\"].value_counts()"
   ]
  },
  {
   "cell_type": "code",
   "execution_count": 11,
   "metadata": {},
   "outputs": [
    {
     "data": {
      "text/plain": [
       "3     973\n",
       "4     455\n",
       "2     344\n",
       "1     180\n",
       "5     162\n",
       "96     31\n",
       "Name: agemomb1, dtype: int64"
      ]
     },
     "execution_count": 11,
     "metadata": {},
     "output_type": "execute_result"
    }
   ],
   "source": [
    "university[\"agemomb1\"].value_counts()"
   ]
  },
  {
   "cell_type": "markdown",
   "metadata": {},
   "source": [
    "## Question 2"
   ]
  },
  {
   "cell_type": "markdown",
   "metadata": {},
   "source": [
    "Since column for PDF and CDF are not specified, used column \"agemomb1\""
   ]
  },
  {
   "cell_type": "code",
   "execution_count": 12,
   "metadata": {},
   "outputs": [
    {
     "name": "stdout",
     "output_type": "stream",
     "text": [
      "Pmf({96: 0.0130956711531466, 1: 0.2095307384503456, 2: 0.21626045834849036, 3: 0.3717715532921062, 4: 0.13404874499818115, 5: 0.05529283375773009})\n",
      "Pmf({96: 0.014452214452214451, 1: 0.08391608391608392, 2: 0.16037296037296037, 3: 0.4536130536130536, 4: 0.21212121212121213, 5: 0.07552447552447553})\n"
     ]
    }
   ],
   "source": [
    "school_pmf = thinkstats2.Pmf(school[\"agemomb1\"], label='school')\n",
    "university_pmf = thinkstats2.Pmf(university[\"agemomb1\"], label='university')\n",
    "\n",
    "print(school_pmf)\n",
    "print(university_pmf)"
   ]
  },
  {
   "cell_type": "code",
   "execution_count": 13,
   "metadata": {},
   "outputs": [
    {
     "data": {
      "image/png": "[encoded data removed]",
      "text/plain": [
       "<Figure size 432x288 with 1 Axes>"
      ]
     },
     "metadata": {},
     "output_type": "display_data"
    }
   ],
   "source": [
    "thinkplot.PrePlot(2)\n",
    "thinkplot.Pmfs([school_pmf, university_pmf])\n",
    "thinkplot.Config(xlabel='Ages of mothers at first birth', ylabel='PMF')"
   ]
  },
  {
   "cell_type": "code",
   "execution_count": 14,
   "metadata": {},
   "outputs": [
    {
     "name": "stdout",
     "output_type": "stream",
     "text": [
      "Cdf([ 1  2  3  4  5 96], [0.20953074 0.4257912  0.79756275 0.9316115  0.98690433 1.        ])\n",
      "Cdf([ 1  2  3  4  5 96], [0.08391608 0.24428904 0.6979021  0.91002331 0.98554779 1.        ])\n"
     ]
    }
   ],
   "source": [
    "school_cdf = thinkstats2.Cdf(school[\"agemomb1\"], label='school')\n",
    "university_cdf = thinkstats2.Cdf(university[\"agemomb1\"], label='university')\n",
    "\n",
    "print(school_cdf)\n",
    "print(university_cdf)"
   ]
  },
  {
   "cell_type": "code",
   "execution_count": 15,
   "metadata": {},
   "outputs": [
    {
     "data": {
      "image/png": "[encoded data removed]",
      "text/plain": [
       "<Figure size 432x288 with 1 Axes>"
      ]
     },
     "metadata": {},
     "output_type": "display_data"
    }
   ],
   "source": [
    "thinkplot.PrePlot(2)\n",
    "thinkplot.Cdfs([school_cdf, university_cdf])\n",
    "thinkplot.Config(xlabel='Ages of mothers at first birth', ylabel='CDF')"
   ]
  },
  {
   "cell_type": "markdown",
   "metadata": {},
   "source": [
    "## Question 3"
   ]
  },
  {
   "cell_type": "code",
   "execution_count": 16,
   "metadata": {},
   "outputs": [
    {
     "name": "stdout",
     "output_type": "stream",
     "text": [
      "[ 2  4  3  1  5 96]\n",
      "[0.05588749797553, -0.07807246712303098, -0.08184150032094739, 0.12561465453426168, -0.02023164176674544, -0.001356543299067852]\n"
     ]
    }
   ],
   "source": [
    "ages = school[\"agemomb1\"].unique()\n",
    "diffs = []\n",
    "for age in ages:\n",
    "    p1 = school_pmf.Prob(age)\n",
    "    p2 = university_pmf.Prob(age)\n",
    "    diff = (p1 - p2)\n",
    "    diffs.append(diff)\n",
    "\n",
    "print(ages)\n",
    "print(diffs)"
   ]
  },
  {
   "cell_type": "code",
   "execution_count": 17,
   "metadata": {},
   "outputs": [
    {
     "data": {
      "image/png": "[encoded data removed]",
      "text/plain": [
       "<Figure size 432x288 with 1 Axes>"
      ]
     },
     "metadata": {},
     "output_type": "display_data"
    }
   ],
   "source": [
    "thinkplot.Bar(ages, diffs, label=\"Differences of Pmf(with_uni_degree - without_uni_degree)\")\n",
    "thinkplot.Config(xlabel='Ages of mothers at first birth', ylabel='Difference (percentage points)')"
   ]
  },
  {
   "cell_type": "markdown",
   "metadata": {},
   "source": [
    "## Question 4"
   ]
  },
  {
   "cell_type": "code",
   "execution_count": 18,
   "metadata": {},
   "outputs": [
    {
     "data": {
      "image/png": "[encoded data removed]",
      "text/plain": [
       "<Figure size 432x288 with 1 Axes>"
      ]
     },
     "metadata": {},
     "output_type": "display_data"
    }
   ],
   "source": [
    "# Copy-paste of code above\n",
    "school_cdf = thinkstats2.Cdf(school[\"agemomb1\"], label='school')\n",
    "university_cdf = thinkstats2.Cdf(university[\"agemomb1\"], label='university')\n",
    "\n",
    "thinkplot.PrePlot(2)\n",
    "thinkplot.Cdfs([school_cdf, university_cdf])\n",
    "thinkplot.Config(xlabel='Ages of mothers at first birth', ylabel='CDF')"
   ]
  },
  {
   "cell_type": "markdown",
   "metadata": {},
   "source": [
    "Used 1 since it represent less than 18 years"
   ]
  },
  {
   "cell_type": "code",
   "execution_count": 19,
   "metadata": {},
   "outputs": [
    {
     "name": "stdout",
     "output_type": "stream",
     "text": [
      "0.2095307384503456\n",
      "0.08391608391608392\n"
     ]
    }
   ],
   "source": [
    "print(school_cdf.Prob(1))\n",
    "print(university_cdf.Prob(1))"
   ]
  },
  {
   "cell_type": "code",
   "execution_count": 20,
   "metadata": {},
   "outputs": [
    {
     "name": "stdout",
     "output_type": "stream",
     "text": [
      "[ 2  4  3  1  5 96]\n",
      "[ 576.5 1747.  3363.5 4754.  5274.5 5462.5]\n"
     ]
    }
   ],
   "source": [
    "length = len(school[\"agemomb1\"])\n",
    "ranks = school[\"agemomb1\"].sort_values().rank().unique()\n",
    "\n",
    "print(school[\"agemomb1\"].unique())\n",
    "print(ranks)"
   ]
  },
  {
   "cell_type": "code",
   "execution_count": 21,
   "metadata": {},
   "outputs": [],
   "source": [
    "find_percentile = lambda inx: ranks[inx]/length*100"
   ]
  },
  {
   "cell_type": "code",
   "execution_count": 22,
   "metadata": {},
   "outputs": [
    {
     "name": "stdout",
     "output_type": "stream",
     "text": [
      "Considering respondents without university degree, first 31.7751909785 percentile includes mothers who gave first birth when they are younger than 18.\n"
     ]
    }
   ],
   "source": [
    "print(\"Considering respondents without university degree, first {} percentile includes mothers who gave first birth when they are younger than 18.\".format(find_percentile(1)))"
   ]
  },
  {
   "cell_type": "code",
   "execution_count": 23,
   "metadata": {},
   "outputs": [
    {
     "name": "stdout",
     "output_type": "stream",
     "text": [
      "Considering respondents without university degree, from 31.7751909785 to 99.3543106584 percentile includes mothers who gave first birth when they are 18 and older than 18.\n"
     ]
    }
   ],
   "source": [
    "print(\"Considering respondents without university degree, from {} to {} percentile includes mothers who gave first birth when they are 18 and older than 18.\".format(find_percentile(1), find_percentile(5)))"
   ]
  },
  {
   "cell_type": "code",
   "execution_count": 24,
   "metadata": {},
   "outputs": [
    {
     "name": "stdout",
     "output_type": "stream",
     "text": [
      "[ 3  2  5  1  4 96]\n",
      "[  90.5  352.5 1011.  1725.  2033.5 2130. ]\n"
     ]
    }
   ],
   "source": [
    "length = len(university[\"agemomb1\"])\n",
    "ranks = university[\"agemomb1\"].sort_values().rank().unique()\n",
    "\n",
    "print(university[\"agemomb1\"].unique())\n",
    "print(ranks)"
   ]
  },
  {
   "cell_type": "code",
   "execution_count": 25,
   "metadata": {},
   "outputs": [
    {
     "name": "stdout",
     "output_type": "stream",
     "text": [
      "Considering respondents with university degree, first 16.4335664336 percentile includes mothers who gave first birth when they are younger than 18.\n"
     ]
    }
   ],
   "source": [
    "print(\"Considering respondents with university degree, first {} percentile includes mothers who gave first birth when they are younger than 18.\".format(find_percentile(1)))"
   ]
  },
  {
   "cell_type": "code",
   "execution_count": 26,
   "metadata": {},
   "outputs": [
    {
     "name": "stdout",
     "output_type": "stream",
     "text": [
      "Considering respondents with university degree, from 16.4335664336 to 99.3006993007 percentile includes mothers who gave first birth when they are 18 and older than 18.\n"
     ]
    }
   ],
   "source": [
    "print(\"Considering respondents with university degree, from {} to {} percentile includes mothers who gave first birth when they are 18 and older than 18.\".format(find_percentile(1), find_percentile(5)))"
   ]
  },
  {
   "cell_type": "markdown",
   "metadata": {},
   "source": [
    "## Question 5"
   ]
  },
  {
   "cell_type": "code",
   "execution_count": 27,
   "metadata": {},
   "outputs": [
    {
     "data": {
      "text/plain": [
       "caseid               int64\n",
       "rscrinf              int64\n",
       "rdormres             int64\n",
       "rostscrn             int64\n",
       "rscreenhisp          int64\n",
       "rscreenrace        float64\n",
       "age_a                int64\n",
       "age_r                int64\n",
       "cmbirth              int64\n",
       "agescrn              int64\n",
       "marstat              int64\n",
       "fmarstat           float64\n",
       "fmarit               int64\n",
       "evrmarry             int64\n",
       "hisp                 int64\n",
       "hispgrp            float64\n",
       "numrace              int64\n",
       "roscnt               int64\n",
       "hplocale           float64\n",
       "manrel             float64\n",
       "fl_rage              int64\n",
       "fl_rrace             int64\n",
       "fl_rhisp             int64\n",
       "goschol              int64\n",
       "vaca               float64\n",
       "higrade              int64\n",
       "compgrd            float64\n",
       "havedip            float64\n",
       "dipged             float64\n",
       "cmhsgrad           float64\n",
       "                    ...   \n",
       "advice_i             int64\n",
       "insem_i              int64\n",
       "invitro_i            int64\n",
       "endomet_i            int64\n",
       "fibroids_i           int64\n",
       "pidtreat_i           int64\n",
       "evhivtst_i           int64\n",
       "insuranc             int64\n",
       "metro                int64\n",
       "religion             int64\n",
       "laborfor             int64\n",
       "insuranc_i           int64\n",
       "metro_i              int64\n",
       "religion_i           int64\n",
       "laborfor_i           int64\n",
       "poverty              int64\n",
       "totincr              int64\n",
       "pubassis             int64\n",
       "poverty_i            int64\n",
       "totincr_i            int64\n",
       "pubassis_i           int64\n",
       "basewgt            float64\n",
       "adj_mod_basewgt    float64\n",
       "finalwgt           float64\n",
       "secu_r               int64\n",
       "sest                 int64\n",
       "cmintvw              int64\n",
       "cmlstyr              int64\n",
       "screentime          object\n",
       "intvlngth          float64\n",
       "Length: 3087, dtype: object"
      ]
     },
     "execution_count": 27,
     "metadata": {},
     "output_type": "execute_result"
    }
   ],
   "source": [
    "resp.dtypes"
   ]
  },
  {
   "cell_type": "code",
   "execution_count": 28,
   "metadata": {},
   "outputs": [
    {
     "data": {
      "text/plain": [
       "<matplotlib.axes._subplots.AxesSubplot at 0x7f47ecd1ce90>"
      ]
     },
     "execution_count": 28,
     "metadata": {},
     "output_type": "execute_result"
    },
    {
     "data": {
      "image/png": "[encoded data removed]",
      "text/plain": [
       "<Figure size 432x288 with 1 Axes>"
      ]
     },
     "metadata": {},
     "output_type": "display_data"
    }
   ],
   "source": [
    "resp[\"intvlngth\"].hist(bins=20)"
   ]
  },
  {
   "cell_type": "markdown",
   "metadata": {},
   "source": [
    "\"intvlngth\" has a binomial distribution."
   ]
  },
  {
   "cell_type": "code",
   "execution_count": 29,
   "metadata": {},
   "outputs": [
    {
     "data": {
      "text/plain": [
       "<matplotlib.axes._subplots.AxesSubplot at 0x7f47ebc916d0>"
      ]
     },
     "execution_count": 29,
     "metadata": {},
     "output_type": "execute_result"
    },
    {
     "data": {
      "image/png": "[encoded data removed]",
      "text/plain": [
       "<Figure size 432x288 with 1 Axes>"
      ]
     },
     "metadata": {},
     "output_type": "display_data"
    }
   ],
   "source": [
    "resp[\"cmbirth\"].hist(bins=20)"
   ]
  },
  {
   "cell_type": "markdown",
   "metadata": {},
   "source": [
    "\"cmbirth\" has a uniform distribution."
   ]
  },
  {
   "cell_type": "code",
   "execution_count": null,
   "metadata": {},
   "outputs": [],
   "source": []
  }
 ],
 "metadata": {
  "kernelspec": {
   "display_name": "eda-hw",
   "language": "python",
   "name": "eda-hw"
  },
  "language_info": {
   "codemirror_mode": {
    "name": "ipython",
    "version": 2
   },
   "file_extension": ".py",
   "mimetype": "text/x-python",
   "name": "python",
   "nbconvert_exporter": "python",
   "pygments_lexer": "ipython2",
   "version": "2.7.12"
  }
 },
 "nbformat": 4,
 "nbformat_minor": 2
}
